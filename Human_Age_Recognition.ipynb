{
  "nbformat": 4,
  "nbformat_minor": 0,
  "metadata": {
    "colab": {
      "name": "Human-Age-Recognition.ipynb",
      "provenance": [],
      "collapsed_sections": []
    },
    "kernelspec": {
      "name": "python3",
      "display_name": "Python 3"
    },
    "language_info": {
      "name": "python"
    },
    "accelerator": "GPU"
  },
  "cells": [
    {
      "cell_type": "code",
      "metadata": {
        "colab": {
          "base_uri": "https://localhost:8080/"
        },
        "id": "IcoahTEslNn9",
        "outputId": "c46038d1-b251-4903-db71-259c641b14cc"
      },
      "source": [
        "%tensorflow_version 2.x\n",
        "import tensorflow as tf\n",
        "print(\"Tensorflow version \" + tf.__version__)"
      ],
      "execution_count": 1,
      "outputs": [
        {
          "output_type": "stream",
          "text": [
            "Tensorflow version 2.5.0\n"
          ],
          "name": "stdout"
        }
      ]
    },
    {
      "cell_type": "code",
      "metadata": {
        "colab": {
          "base_uri": "https://localhost:8080/"
        },
        "id": "aGbtt413fFCP",
        "outputId": "df7c574e-ac6b-45f2-fc49-03f811dd0a3d"
      },
      "source": [
        "device_name = tf.test.gpu_device_name()\n",
        "if device_name != '/device:GPU:0':\n",
        "  raise SystemError('GPU device not found')\n",
        "print('Found GPU at: {}'.format(device_name))"
      ],
      "execution_count": 2,
      "outputs": [
        {
          "output_type": "stream",
          "text": [
            "Found GPU at: /device:GPU:0\n"
          ],
          "name": "stdout"
        }
      ]
    },
    {
      "cell_type": "code",
      "metadata": {
        "colab": {
          "base_uri": "https://localhost:8080/"
        },
        "id": "I2Zk3EVefvAd",
        "outputId": "fd442ea7-2286-4206-b11f-1c7f755ab460"
      },
      "source": [
        "from tensorflow.python.client import device_lib\n",
        "device_lib.list_local_devices()"
      ],
      "execution_count": 3,
      "outputs": [
        {
          "output_type": "execute_result",
          "data": {
            "text/plain": [
              "[name: \"/device:CPU:0\"\n",
              " device_type: \"CPU\"\n",
              " memory_limit: 268435456\n",
              " locality {\n",
              " }\n",
              " incarnation: 5208345136992649057, name: \"/device:GPU:0\"\n",
              " device_type: \"GPU\"\n",
              " memory_limit: 14509932544\n",
              " locality {\n",
              "   bus_id: 1\n",
              "   links {\n",
              "   }\n",
              " }\n",
              " incarnation: 16034600339893667201\n",
              " physical_device_desc: \"device: 0, name: Tesla T4, pci bus id: 0000:00:04.0, compute capability: 7.5\"]"
            ]
          },
          "metadata": {
            "tags": []
          },
          "execution_count": 3
        }
      ]
    },
    {
      "cell_type": "code",
      "metadata": {
        "id": "RyB4Ag48mjL8"
      },
      "source": [
        "import numpy as np\n",
        "import pandas as pd\n",
        "import matplotlib.pyplot as plt\n",
        "import os \n",
        "from collections import Counter\n",
        "import itertools\n",
        "import shutil\n",
        "import random\n",
        "import glob\n",
        "import warnings\n",
        "warnings.simplefilter(action = 'ignore', category = FutureWarning)\n",
        "%matplotlib inline"
      ],
      "execution_count": 4,
      "outputs": []
    },
    {
      "cell_type": "code",
      "metadata": {
        "id": "9ROJsw51pCNG"
      },
      "source": [
        "import cv2"
      ],
      "execution_count": 5,
      "outputs": []
    },
    {
      "cell_type": "code",
      "metadata": {
        "id": "Ft6KMRZNpKSC"
      },
      "source": [
        "def check_image(image):  \n",
        "    '''\n",
        "      Input an image,\n",
        "      It checks whether it is a RGB type or not. If not, it converts the image to RGB and returns that.\n",
        "      \n",
        "    '''\n",
        "\n",
        "    img = cv2.imread(image)\n",
        "\n",
        "    if len(img.shape)==2:\n",
        "        img = cv2.cvtColor(img, cv2.COLOR_GRAY2RGB)\n",
        "    elif len(img.shape)==3 and img.shape[2]==1:\n",
        "        img = cv2.cvtColor(img[:, :, 0], cv2.COLOR_GRAY2RGB)\n",
        "    elif len(img.shape)==3 and img.shape[2]==2:\n",
        "        img = cv2.cvtColor(img[:, :, 0], cv2.COLOR_GRAY2RGB)\n",
        "    \n",
        "    return img"
      ],
      "execution_count": 6,
      "outputs": []
    },
    {
      "cell_type": "code",
      "metadata": {
        "colab": {
          "base_uri": "https://localhost:8080/"
        },
        "id": "rB2OPPc4pZ6q",
        "outputId": "6a7dd50a-5eac-4fb8-cef1-272d9b421fa8"
      },
      "source": [
        "'''def denoise_image(img_arr):\n",
        "    \n",
        "\n",
        "       # Input a read image,\n",
        "       # It denoises the image and returns the filtered one.\n",
        "       \n",
        "    \n",
        "    ret = cv2.fastNlMeansDenoisingColored(img_arr, None, 10, 10, 7, 21)\n",
        "    \n",
        "    return ret '''\n",
        "\n",
        "# denoising images using fastNlMeans method might lead to loss of important features of the image. So better, avoid that."
      ],
      "execution_count": null,
      "outputs": [
        {
          "output_type": "stream",
          "text": [
            "\n"
          ],
          "name": "stdout"
        }
      ]
    },
    {
      "cell_type": "code",
      "metadata": {
        "colab": {
          "base_uri": "https://localhost:8080/"
        },
        "id": "eRBBHnXlpifH",
        "outputId": "4a2d344f-f7ab-4421-e5c1-54015170577d"
      },
      "source": [
        "''' Count of images for eight different age groups are:\n",
        "                                                            00: 920\n",
        "                                                            01: 1063\n",
        "                                                            02: 2621\n",
        "                                                            03: 2664\n",
        "                                                            04: 1556\n",
        "                                                            05: 919\n",
        "                                                            06: 550\n",
        "                                                            07: 375 \n",
        "So, randomely select 915 images from each of the classes 00, 01, 02, 03, 04, 05. And do the data augmentation for classes 06  \n",
        "and 07 to make each of them have 915 images too. Total we will have 915*8 images in the training set.'''"
      ],
      "execution_count": 7,
      "outputs": [
        {
          "output_type": "stream",
          "text": [
            "\n"
          ],
          "name": "stdout"
        }
      ]
    },
    {
      "cell_type": "code",
      "metadata": {
        "id": "vcpwZDWGpp2g"
      },
      "source": [
        "def data_sampling(num):\n",
        "    \n",
        "    # randomely collects 915 images from each of the classes/folders: 00, 01, 02, 03, 04, and 05. And put those collected \n",
        "    # images to their corresponding newly created folders/classes: 0, 1, 2, 3, 4, and 5 respectively.\n",
        "    \n",
        "    path = r'C:\\Users\\harsh raj\\OneDrive\\Desktop\\third_proj\\train'\n",
        "    str1 = '0' + str(num) \n",
        "    str2 = str(num)\n",
        "    path = path + '/' + str1\n",
        "    \n",
        "    os.chdir(path)\n",
        "    if os.path.isdir(str2) is False:\n",
        "        os.makedirs(str2)\n",
        "    \n",
        "        for c in random.sample(glob.glob('000*'), 915):\n",
        "            shutil.move(c, str2)"
      ],
      "execution_count": 7,
      "outputs": []
    },
    {
      "cell_type": "code",
      "metadata": {
        "id": "D0zX2iEwp2ms",
        "colab": {
          "base_uri": "https://localhost:8080/"
        },
        "outputId": "87cdb82c-37cf-44d2-e814-d68720a5acf9"
      },
      "source": [
        "for i in range(6):\n",
        "    data_sampling(i)"
      ],
      "execution_count": 8,
      "outputs": [
        {
          "output_type": "stream",
          "text": [
            "\n"
          ],
          "name": "stdout"
        }
      ]
    },
    {
      "cell_type": "code",
      "metadata": {
        "id": "3CdOQFqsqBfw"
      },
      "source": [
        "from tensorflow.keras.preprocessing.image import ImageDataGenerator, load_img, img_to_array, array_to_img\n",
        "\n",
        "def data_augmentation(numb): \n",
        "    \n",
        "    datagen = ImageDataGenerator(\n",
        "                                rotation_range = 40,\n",
        "                                width_shift_range = 0.2,\n",
        "                                height_shift_range = 0.2,\n",
        "                                shear_range = 0.2,\n",
        "                                zoom_range = 0.2,\n",
        "                                horizontal_flip = True,\n",
        "                                fill_mode = 'nearest')\n",
        "\n",
        "    # Did data augmentation of 'valu' number of images randomely selected inside the folder/class '06' & '07' each, such that\n",
        "    # each image produces 5 augmented images. => Total of valu*5 images produced for each of the '06' and '07 according to it's\n",
        "    # 'valu'. The produced images are saved in the same folder '06' or '07' correspondingly. \n",
        "    # So, in total, there are 550+valu*5 = 915 images in the folder '06' and 375+valu*5 = 915 images in the folder '07'. \n",
        "    # And thus, we have 915 images for each class now.\n",
        "    \n",
        "    stree = '0' + str(numb)\n",
        "    pathh = r'C:\\Users\\harsh raj\\OneDrive\\Desktop\\third_proj\\train' + '/' + stree\n",
        "    \n",
        "    if numb == 6:\n",
        "        valu = 73\n",
        "    else:\n",
        "        valu = 108\n",
        "    \n",
        "    os.chdir(pathh)     # in the pathh directory.\n",
        "    for ci in random.sample(glob.glob('000*'), valu):\n",
        "\n",
        "        im = load_img(ci)\n",
        "        imgg = img_to_array(im)\n",
        "        imgg = imgg.reshape((1,) + imgg.shape)\n",
        "\n",
        "        j = 0\n",
        "        for batch in datagen.flow(imgg, batch_size = 1,\n",
        "                                        save_to_dir = pathh, save_format = 'jpg'):\n",
        "            j += 1\n",
        "            if j>4:\n",
        "                break    "
      ],
      "execution_count": 9,
      "outputs": []
    },
    {
      "cell_type": "code",
      "metadata": {
        "id": "RPVou03vqLdq",
        "colab": {
          "base_uri": "https://localhost:8080/"
        },
        "outputId": "5b72697b-835e-47d8-bb7f-920bedba7f6f"
      },
      "source": [
        "data_augmentation(6)   # data augmentation in the folder '06'\n",
        "data_augmentation(7)   # data augmentation in the folder '07'"
      ],
      "execution_count": 10,
      "outputs": [
        {
          "output_type": "stream",
          "text": [
            "\n"
          ],
          "name": "stdout"
        }
      ]
    },
    {
      "cell_type": "code",
      "metadata": {
        "id": "SJshoSdnqVpO"
      },
      "source": [
        "# Before further preprocessing, we copied the folders '0', '1', '2', '3', '4', '5', '06', and '07' from the 'train' folder and \n",
        "# pasted them as '0', '1', '2', '3', '4', '5', '6', and '7' in a new folder named 'train_final'."
      ],
      "execution_count": 11,
      "outputs": []
    },
    {
      "cell_type": "code",
      "metadata": {
        "colab": {
          "base_uri": "https://localhost:8080/"
        },
        "id": "AZIqXG8Gqgm7",
        "outputId": "91336b94-a9a5-4f5b-e16a-46f6686dd514"
      },
      "source": [
        "from google.colab import drive\n",
        "drive.mount('/content/Pdrive')"
      ],
      "execution_count": 12,
      "outputs": [
        {
          "output_type": "stream",
          "text": [
            "Mounted at /content/Pdrive\n"
          ],
          "name": "stdout"
        }
      ]
    },
    {
      "cell_type": "code",
      "metadata": {
        "id": "irecLpsoqpcX"
      },
      "source": [
        "train_path = '/content/Pdrive/MyDrive/Colab Notebooks/train_final'\n",
        "target_folder = '/content/Pdrive/MyDrive/Colab Notebooks/train_preprocessed'"
      ],
      "execution_count": 13,
      "outputs": []
    },
    {
      "cell_type": "code",
      "metadata": {
        "id": "KdnZipN7wcxD"
      },
      "source": [
        "import glob\n",
        "\n",
        "# This cell will do the face detection for each of the images present in the training folder (train_path)\n",
        "# Each image will then be cropped and the faces extracted will be saved to a new directory with the same label.\n",
        "\n",
        "count = 0\n",
        "\n",
        "face_detection = cv2.CascadeClassifier('/content/Pdrive/MyDrive/Colab Notebooks/face_det_haarcascade.xml')\n",
        "\n",
        "for a_var in range(8):\n",
        "  folder_path = train_path + '/' + str(a_var)\n",
        "\n",
        "  for filename in glob.iglob(folder_path + '**/*.jpg', recursive = True):\n",
        "    read_image = cv2.imread(filename)\n",
        "    gray = cv2.cvtColor(read_image, cv2.COLOR_BGR2GRAY)\n",
        "    faces = face_detection.detectMultiScale(gray, scaleFactor = 1.1, minNeighbors = 5)\n",
        "\n",
        "    for (x, y, w, h) in faces:\n",
        "      face_img = read_image[y:y+h, x:x+w]\n",
        "      cv2.imwrite(target_folder + '/' + str(a_var) + '/' + 'saved' + str(count) + '.jpg', face_img)\n",
        "      count+=1"
      ],
      "execution_count": 14,
      "outputs": []
    },
    {
      "cell_type": "code",
      "metadata": {
        "colab": {
          "base_uri": "https://localhost:8080/"
        },
        "id": "aspjublH15IS",
        "outputId": "3f9d4e95-3eb2-4813-88a8-cfb0a49f93f3"
      },
      "source": [
        "print(count)"
      ],
      "execution_count": 16,
      "outputs": [
        {
          "output_type": "stream",
          "text": [
            "6069\n"
          ],
          "name": "stdout"
        }
      ]
    },
    {
      "cell_type": "code",
      "metadata": {
        "colab": {
          "base_uri": "https://localhost:8080/"
        },
        "id": "h9fnTqXmBhz3",
        "outputId": "fd451658-8d9b-47fe-ed8b-acf4891aaa6d"
      },
      "source": [
        "# collect and preprocess all the 7305 images of training set.\n",
        "train_batches = ImageDataGenerator(preprocessing_function = tf.keras.applications.vgg16.preprocess_input) \\\n",
        "     .flow_from_directory(directory = target_folder, target_size = (224, 224),   # collect all the input images and preprocess them all at once.\n",
        "                         classes = ['0', '1', '2', '3', '4', '5', '6', '7'], batch_size = 6069)   "
      ],
      "execution_count": 17,
      "outputs": [
        {
          "output_type": "stream",
          "text": [
            "Found 6069 images belonging to 8 classes.\n"
          ],
          "name": "stdout"
        }
      ]
    },
    {
      "cell_type": "code",
      "metadata": {
        "id": "Co7kfFSsBs-T"
      },
      "source": [
        "# verify whether we got the required number of images from the directory or not.\n",
        "assert train_batches.n == 6069\n",
        "assert train_batches.num_classes == 8"
      ],
      "execution_count": 18,
      "outputs": []
    },
    {
      "cell_type": "code",
      "metadata": {
        "id": "d3tbslK1B8qQ"
      },
      "source": [
        "imgs, labels = next(train_batches)  # collected the complete training set as X_train = imgs & y_train = labels."
      ],
      "execution_count": 19,
      "outputs": []
    },
    {
      "cell_type": "code",
      "metadata": {
        "colab": {
          "base_uri": "https://localhost:8080/"
        },
        "id": "LoUgWFerCBbB",
        "outputId": "f0f464d8-479f-418c-f62e-2d714da334c9"
      },
      "source": [
        "print(imgs.shape)\n",
        "print(labels.shape)"
      ],
      "execution_count": 20,
      "outputs": [
        {
          "output_type": "stream",
          "text": [
            "(6069, 224, 224, 3)\n",
            "(6069, 8)\n"
          ],
          "name": "stdout"
        }
      ]
    },
    {
      "cell_type": "code",
      "metadata": {
        "id": "d6uYTNVPEHhR"
      },
      "source": [
        "from tensorflow.keras.models import Sequential\n",
        "from tensorflow.keras.layers import Dense, Flatten, Activation, Conv2D, MaxPool2D, Dropout, BatchNormalization, AveragePooling2D, GlobalAveragePooling2D\n",
        "from tensorflow.keras.optimizers import Adam\n",
        "from tensorflow.keras.metrics import categorical_crossentropy\n",
        "from tensorflow.keras.regularizers import l1, l2, l1_l2"
      ],
      "execution_count": 21,
      "outputs": []
    },
    {
      "cell_type": "code",
      "metadata": {
        "id": "m7Nus1mFF6RD"
      },
      "source": [
        "def create_model():\n",
        "  \n",
        "  vgg16_model = tf.keras.applications.vgg16.VGG16()\n",
        "\n",
        "  model = Sequential()\n",
        "  for layer in vgg16_model.layers[:-1]:\n",
        "      model.add(layer)\n",
        "\n",
        "  for layer in model.layers:\n",
        "      layer.trainable = False\n",
        "\n",
        "  model.add(Dense(units = 8, activation = 'softmax'))\n",
        "\n",
        "  return model"
      ],
      "execution_count": 22,
      "outputs": []
    },
    {
      "cell_type": "code",
      "metadata": {
        "colab": {
          "base_uri": "https://localhost:8080/"
        },
        "id": "EBmFxJ2PF_nv",
        "outputId": "8e260efa-8b19-4c53-b5e6-ac8d10d4f5fc"
      },
      "source": [
        "model = create_model()\n",
        "model.compile(\n",
        "      optimizer = Adam(learning_rate = 0.001),\n",
        "      loss='categorical_crossentropy',\n",
        "      metrics=['accuracy'])\n",
        "\n",
        "model.summary()"
      ],
      "execution_count": 23,
      "outputs": [
        {
          "output_type": "stream",
          "text": [
            "Downloading data from https://storage.googleapis.com/tensorflow/keras-applications/vgg16/vgg16_weights_tf_dim_ordering_tf_kernels.h5\n",
            "553467904/553467096 [==============================] - 3s 0us/step\n",
            "Model: \"sequential\"\n",
            "_________________________________________________________________\n",
            "Layer (type)                 Output Shape              Param #   \n",
            "=================================================================\n",
            "block1_conv1 (Conv2D)        (None, 224, 224, 64)      1792      \n",
            "_________________________________________________________________\n",
            "block1_conv2 (Conv2D)        (None, 224, 224, 64)      36928     \n",
            "_________________________________________________________________\n",
            "block1_pool (MaxPooling2D)   (None, 112, 112, 64)      0         \n",
            "_________________________________________________________________\n",
            "block2_conv1 (Conv2D)        (None, 112, 112, 128)     73856     \n",
            "_________________________________________________________________\n",
            "block2_conv2 (Conv2D)        (None, 112, 112, 128)     147584    \n",
            "_________________________________________________________________\n",
            "block2_pool (MaxPooling2D)   (None, 56, 56, 128)       0         \n",
            "_________________________________________________________________\n",
            "block3_conv1 (Conv2D)        (None, 56, 56, 256)       295168    \n",
            "_________________________________________________________________\n",
            "block3_conv2 (Conv2D)        (None, 56, 56, 256)       590080    \n",
            "_________________________________________________________________\n",
            "block3_conv3 (Conv2D)        (None, 56, 56, 256)       590080    \n",
            "_________________________________________________________________\n",
            "block3_pool (MaxPooling2D)   (None, 28, 28, 256)       0         \n",
            "_________________________________________________________________\n",
            "block4_conv1 (Conv2D)        (None, 28, 28, 512)       1180160   \n",
            "_________________________________________________________________\n",
            "block4_conv2 (Conv2D)        (None, 28, 28, 512)       2359808   \n",
            "_________________________________________________________________\n",
            "block4_conv3 (Conv2D)        (None, 28, 28, 512)       2359808   \n",
            "_________________________________________________________________\n",
            "block4_pool (MaxPooling2D)   (None, 14, 14, 512)       0         \n",
            "_________________________________________________________________\n",
            "block5_conv1 (Conv2D)        (None, 14, 14, 512)       2359808   \n",
            "_________________________________________________________________\n",
            "block5_conv2 (Conv2D)        (None, 14, 14, 512)       2359808   \n",
            "_________________________________________________________________\n",
            "block5_conv3 (Conv2D)        (None, 14, 14, 512)       2359808   \n",
            "_________________________________________________________________\n",
            "block5_pool (MaxPooling2D)   (None, 7, 7, 512)         0         \n",
            "_________________________________________________________________\n",
            "flatten (Flatten)            (None, 25088)             0         \n",
            "_________________________________________________________________\n",
            "fc1 (Dense)                  (None, 4096)              102764544 \n",
            "_________________________________________________________________\n",
            "fc2 (Dense)                  (None, 4096)              16781312  \n",
            "_________________________________________________________________\n",
            "dense (Dense)                (None, 8)                 32776     \n",
            "=================================================================\n",
            "Total params: 134,293,320\n",
            "Trainable params: 32,776\n",
            "Non-trainable params: 134,260,544\n",
            "_________________________________________________________________\n"
          ],
          "name": "stdout"
        }
      ]
    },
    {
      "cell_type": "code",
      "metadata": {
        "colab": {
          "base_uri": "https://localhost:8080/"
        },
        "id": "RtG0vyPv2tur",
        "outputId": "1b311ea3-6f77-4440-a0dd-3b2174806f7f"
      },
      "source": [
        "from tensorflow.keras.callbacks import EarlyStopping\n",
        "\n",
        "model.fit(\n",
        "    x = imgs, y = labels, batch_size = 128, epochs = 60, verbose = 2\n",
        ")"
      ],
      "execution_count": 28,
      "outputs": [
        {
          "output_type": "stream",
          "text": [
            "Epoch 1/60\n",
            "48/48 - 28s - loss: 0.9006 - accuracy: 0.7013\n",
            "Epoch 2/60\n",
            "48/48 - 29s - loss: 0.8651 - accuracy: 0.7182\n",
            "Epoch 3/60\n",
            "48/48 - 28s - loss: 0.8488 - accuracy: 0.7090\n",
            "Epoch 4/60\n",
            "48/48 - 28s - loss: 0.8119 - accuracy: 0.7332\n",
            "Epoch 5/60\n",
            "48/48 - 28s - loss: 0.7871 - accuracy: 0.7476\n",
            "Epoch 6/60\n",
            "48/48 - 28s - loss: 0.7578 - accuracy: 0.7639\n",
            "Epoch 7/60\n",
            "48/48 - 28s - loss: 0.7397 - accuracy: 0.7657\n",
            "Epoch 8/60\n",
            "48/48 - 28s - loss: 0.7375 - accuracy: 0.7612\n",
            "Epoch 9/60\n",
            "48/48 - 28s - loss: 0.7190 - accuracy: 0.7637\n",
            "Epoch 10/60\n",
            "48/48 - 28s - loss: 0.6802 - accuracy: 0.7985\n",
            "Epoch 11/60\n",
            "48/48 - 28s - loss: 0.6601 - accuracy: 0.8085\n",
            "Epoch 12/60\n",
            "48/48 - 28s - loss: 0.6537 - accuracy: 0.8087\n",
            "Epoch 13/60\n",
            "48/48 - 28s - loss: 0.6374 - accuracy: 0.8206\n",
            "Epoch 14/60\n",
            "48/48 - 28s - loss: 0.6178 - accuracy: 0.8286\n",
            "Epoch 15/60\n",
            "48/48 - 28s - loss: 0.6081 - accuracy: 0.8248\n",
            "Epoch 16/60\n",
            "48/48 - 28s - loss: 0.5943 - accuracy: 0.8344\n",
            "Epoch 17/60\n",
            "48/48 - 28s - loss: 0.5824 - accuracy: 0.8440\n",
            "Epoch 18/60\n",
            "48/48 - 28s - loss: 0.5792 - accuracy: 0.8407\n",
            "Epoch 19/60\n",
            "48/48 - 28s - loss: 0.5552 - accuracy: 0.8571\n",
            "Epoch 20/60\n",
            "48/48 - 28s - loss: 0.5461 - accuracy: 0.8558\n",
            "Epoch 21/60\n",
            "48/48 - 28s - loss: 0.5296 - accuracy: 0.8690\n",
            "Epoch 22/60\n",
            "48/48 - 28s - loss: 0.5225 - accuracy: 0.8665\n",
            "Epoch 23/60\n",
            "48/48 - 28s - loss: 0.5049 - accuracy: 0.8809\n",
            "Epoch 24/60\n",
            "48/48 - 28s - loss: 0.5085 - accuracy: 0.8710\n",
            "Epoch 25/60\n",
            "48/48 - 28s - loss: 0.5054 - accuracy: 0.8700\n",
            "Epoch 26/60\n",
            "48/48 - 28s - loss: 0.4973 - accuracy: 0.8705\n",
            "Epoch 27/60\n",
            "48/48 - 28s - loss: 0.4790 - accuracy: 0.8842\n",
            "Epoch 28/60\n",
            "48/48 - 28s - loss: 0.4637 - accuracy: 0.8876\n",
            "Epoch 29/60\n",
            "48/48 - 28s - loss: 0.4569 - accuracy: 0.8919\n",
            "Epoch 30/60\n",
            "48/48 - 28s - loss: 0.4516 - accuracy: 0.8889\n",
            "Epoch 31/60\n",
            "48/48 - 28s - loss: 0.4411 - accuracy: 0.8949\n",
            "Epoch 32/60\n",
            "48/48 - 28s - loss: 0.4318 - accuracy: 0.9041\n",
            "Epoch 33/60\n",
            "48/48 - 28s - loss: 0.4246 - accuracy: 0.9054\n",
            "Epoch 34/60\n",
            "48/48 - 28s - loss: 0.4144 - accuracy: 0.9120\n",
            "Epoch 35/60\n",
            "48/48 - 28s - loss: 0.4096 - accuracy: 0.9107\n",
            "Epoch 36/60\n",
            "48/48 - 28s - loss: 0.4087 - accuracy: 0.9061\n",
            "Epoch 37/60\n",
            "48/48 - 28s - loss: 0.3911 - accuracy: 0.9168\n",
            "Epoch 38/60\n",
            "48/48 - 28s - loss: 0.3885 - accuracy: 0.9176\n",
            "Epoch 39/60\n",
            "48/48 - 28s - loss: 0.3858 - accuracy: 0.9150\n",
            "Epoch 40/60\n",
            "48/48 - 28s - loss: 0.3751 - accuracy: 0.9194\n",
            "Epoch 41/60\n",
            "48/48 - 28s - loss: 0.3724 - accuracy: 0.9234\n",
            "Epoch 42/60\n",
            "48/48 - 28s - loss: 0.3592 - accuracy: 0.9315\n",
            "Epoch 43/60\n",
            "48/48 - 28s - loss: 0.3615 - accuracy: 0.9219\n",
            "Epoch 44/60\n",
            "48/48 - 28s - loss: 0.3466 - accuracy: 0.9324\n",
            "Epoch 45/60\n",
            "48/48 - 28s - loss: 0.3425 - accuracy: 0.9362\n",
            "Epoch 46/60\n",
            "48/48 - 28s - loss: 0.3503 - accuracy: 0.9296\n",
            "Epoch 47/60\n",
            "48/48 - 28s - loss: 0.3406 - accuracy: 0.9315\n",
            "Epoch 48/60\n",
            "48/48 - 28s - loss: 0.3397 - accuracy: 0.9301\n",
            "Epoch 49/60\n",
            "48/48 - 28s - loss: 0.3186 - accuracy: 0.9451\n",
            "Epoch 50/60\n",
            "48/48 - 28s - loss: 0.3130 - accuracy: 0.9450\n",
            "Epoch 51/60\n",
            "48/48 - 28s - loss: 0.3117 - accuracy: 0.9430\n",
            "Epoch 52/60\n",
            "48/48 - 28s - loss: 0.3125 - accuracy: 0.9410\n",
            "Epoch 53/60\n",
            "48/48 - 28s - loss: 0.3083 - accuracy: 0.9413\n",
            "Epoch 54/60\n",
            "48/48 - 28s - loss: 0.3043 - accuracy: 0.9461\n",
            "Epoch 55/60\n",
            "48/48 - 28s - loss: 0.2905 - accuracy: 0.9519\n",
            "Epoch 56/60\n",
            "48/48 - 28s - loss: 0.2837 - accuracy: 0.9550\n",
            "Epoch 57/60\n",
            "48/48 - 28s - loss: 0.2823 - accuracy: 0.9540\n",
            "Epoch 58/60\n",
            "48/48 - 28s - loss: 0.2794 - accuracy: 0.9545\n",
            "Epoch 59/60\n",
            "48/48 - 28s - loss: 0.2736 - accuracy: 0.9542\n",
            "Epoch 60/60\n",
            "48/48 - 28s - loss: 0.2653 - accuracy: 0.9629\n"
          ],
          "name": "stdout"
        },
        {
          "output_type": "execute_result",
          "data": {
            "text/plain": [
              "<tensorflow.python.keras.callbacks.History at 0x7f4464134c90>"
            ]
          },
          "metadata": {
            "tags": []
          },
          "execution_count": 28
        }
      ]
    },
    {
      "cell_type": "code",
      "metadata": {
        "id": "7qWF95ZIGID4"
      },
      "source": [
        "test_path = '/content/Pdrive/MyDrive/Colab Notebooks/test'   # the path to access all the test images"
      ],
      "execution_count": 29,
      "outputs": []
    },
    {
      "cell_type": "code",
      "metadata": {
        "id": "vtW5chQMGU-y"
      },
      "source": [
        "import glob\n",
        "from tensorflow.keras.applications.vgg16 import preprocess_input\n",
        "\n",
        "df = pd.DataFrame({'Image Name': [], 'Labels': []}, columns = ['Image Name', 'Labels'])\n",
        "\n",
        "# preprocess all the test images now. (similarly how train images were done)\n",
        "\n",
        "for filename in glob.iglob(test_path + '**/*.jpg', recursive=True):\n",
        "  imag = cv2.imread(filename)\n",
        "  gray_imag = cv2.cvtColor(imag, cv2.COLOR_BGR2GRAY)\n",
        "  face_det = face_detection.detectMultiScale(gray_imag, scaleFactor = 1.1, minNeighbors = 5)\n",
        "\n",
        "  for (x, y, w, h) in face_det:\n",
        "    face_imag = imag[y:y+h, x:x+w]\n",
        "    face_imag = cv2.resize(face_imag, (224, 224))\n",
        "    face_imag = face_imag.reshape((1,) + face_imag.shape)\n",
        "    face_imag = preprocess_input(face_imag)\n",
        "    pred_val = model.predict(face_imag)\n",
        "    got_val = np.argmax(pred_val)\n",
        "    shit = filename\n",
        "    shiit = shit.split('/')[6]\n",
        "    df.loc[len(df.index)] = [shiit, got_val]\n"
      ],
      "execution_count": 31,
      "outputs": []
    },
    {
      "cell_type": "code",
      "metadata": {
        "id": "tX4O0Ox2T1z8"
      },
      "source": [
        "df['Labels'] = df['Labels'].astype(int)"
      ],
      "execution_count": 32,
      "outputs": []
    },
    {
      "cell_type": "code",
      "metadata": {
        "id": "NfKiOnbbVHEo"
      },
      "source": [
        "df.to_csv('/content/Pdrive/MyDrive/Colab Notebooks/Final-Submission.csv', index = False)  \n",
        "# This dataframe contains all the test images with their labels as predicted by the model."
      ],
      "execution_count": 33,
      "outputs": []
    },
    {
      "cell_type": "code",
      "metadata": {
        "colab": {
          "base_uri": "https://localhost:8080/",
          "height": 287
        },
        "id": "kohdcLldJzsz",
        "outputId": "b6a137dd-94b3-4b43-b8dc-bc8886972575"
      },
      "source": [
        "# Let's take a test by choosing a random image from the final dataframe (df) and see it's label predicted. (do human check to verify).\n",
        "\n",
        "test1 = cv2.imread(test_path + '/' + df['Image Name'][3])\n",
        "font = cv2.FONT_HERSHEY_SIMPLEX\n",
        "\n",
        "temp = df['Labels'][3]\n",
        "if(temp==0):\n",
        "  text = '1-10'\n",
        "elif(temp==1):\n",
        "  text = '11-20'\n",
        "elif(temp==2):\n",
        "  text = '21-30'\n",
        "elif(temp==3):\n",
        "  text = '31-40'\n",
        "elif(temp==4):\n",
        "  text = '41-50'\n",
        "elif(temp==5):\n",
        "  text = '51-60'\n",
        "elif(temp==6):\n",
        "  text = '61-70'\n",
        "else:\n",
        "  text = '71-80'\n",
        "\n",
        "cv2.putText(test1, text, (190,45), font, 1, (255,255), 2, cv2.LINE_AA)\n",
        "plt.imshow(test1)"
      ],
      "execution_count": 45,
      "outputs": [
        {
          "output_type": "execute_result",
          "data": {
            "text/plain": [
              "<matplotlib.image.AxesImage at 0x7f45901c60d0>"
            ]
          },
          "metadata": {
            "tags": []
          },
          "execution_count": 45
        },
        {
          "output_type": "display_data",
          "data": {
            "image/png": "[encoded data removed]",
            "text/plain": [
              "<Figure size 432x288 with 1 Axes>"
            ]
          },
          "metadata": {
            "tags": [],
            "needs_background": "light"
          }
        }
      ]
    },
    {
      "cell_type": "code",
      "metadata": {
        "id": "T5JjNurtKlnZ"
      },
      "source": [
        ""
      ],
      "execution_count": null,
      "outputs": []
    }
  ]
}